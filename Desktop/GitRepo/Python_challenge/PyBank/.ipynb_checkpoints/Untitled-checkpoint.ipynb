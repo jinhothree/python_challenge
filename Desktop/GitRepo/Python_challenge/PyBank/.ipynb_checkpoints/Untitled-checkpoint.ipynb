{
 "cells": [
  {
   "cell_type": "code",
   "execution_count": 237,
   "metadata": {},
   "outputs": [],
   "source": [
    "#import dependencies \n",
    "import os\n",
    "import csv\n",
    "import statistics as st\n",
    "import pandas as pd\n"
   ]
  },
  {
   "cell_type": "code",
   "execution_count": 238,
   "metadata": {},
   "outputs": [],
   "source": [
    "#Setting variables    \n",
    "    total_month = 0\n",
    "    total_profit =0\n",
    "    total_loss = 0\n",
    "    net_profit = total_profit + total_loss\n",
    "    average_change = []\n",
    "    count_row = 0\n",
    "    change_list = []\n",
    "    date_list = []"
   ]
  },
  {
   "cell_type": "code",
   "execution_count": 239,
   "metadata": {
    "scrolled": true
   },
   "outputs": [
    {
     "name": "stdout",
     "output_type": "stream",
     "text": [
      "Total months: 86\n",
      "Total: $ 38382578.0\n",
      "Average change in profit is  -2315.12  dollars.\n",
      "The greatest increase in profit was  1926159.0  on  Feb-2012\n",
      "The greatest decrease in profit was  -2196167.0  on  Sep-2013\n"
     ]
    }
   ],
   "source": [
    "\n",
    "#setting up csv reader\n",
    "csvpath = os.path.join(\"budget_data.csv\")\n",
    "with open(csvpath) as csvfile:\n",
    "    csvreader = csv.reader(csvfile, delimiter = ',')\n",
    "#skipping header \n",
    "    next(csvreader, None)\n",
    "    \n",
    "#starting the for loop\n",
    "    for row in csvreader:\n",
    "#Counting the length of the period\n",
    "        total_month += 1\n",
    "#Setting a list of dates to refer to, when printing out the profit/losses\n",
    "        date_list.append(row[0])\n",
    "#Calculating the profit/losses\n",
    "        money = float(row[1])\n",
    "        if money > 0:\n",
    "            total_profit += money\n",
    "        elif money < 0:\n",
    "            total_loss += money\n",
    "        \n",
    "#Calculating average change\n",
    "        count_row += 1\n",
    "        if count_row==1:\n",
    "            pre_amt = float(row[1])\n",
    "        elif count_row >1:\n",
    "            change = float(row[1]) - pre_amt\n",
    "            change_list.append(change)\n",
    "            pre_amt = float(row[1])        \n",
    "    total_change = sum(change_list)\n",
    "    average_change = total_change/ (total_month - 1)\n",
    "#Finding the index number for the max/min changes in the profit.\n",
    "    date_profit = change_list.index(max(change_list))\n",
    "    date_losses = change_list.index(min(change_list))\n",
    "#printing the values\n",
    "    print(\"Total months:\", total_month)\n",
    "    print(\"Total: $\",(total_profit + total_loss))\n",
    "    print(\"Average change in profit is \", round(average_change,2), \" dollars.\")\n",
    "    print('The greatest increase in profit was ', max(change_list), ' on ', date_list[date_profit + 1])\n",
    "    print('The greatest decrease in profit was ', min(change_list), ' on ', date_list[date_losses + 1])\n",
    "    \n",
    "        "
   ]
  },
  {
   "cell_type": "code",
   "execution_count": 247,
   "metadata": {},
   "outputs": [],
   "source": [
    "output_path = os.path.join(\"analysis.txt\")\n",
    "with open(output_path, \"w+\") as textfile:\n",
    "    textfile.writelines(\"Financial Analysis\" + '\\n')\n",
    "    textfile.writelines(\"Total months:\" + str(total_month)+ '\\n')\n",
    "    textfile.writelines(\"Total: $\"+ str(total_profit + total_loss)+ '\\n')\n",
    "    textfile.writelines(\"Average change in profit is \" + str(round(average_change,2)) + \" dollars.\"+ '\\n')\n",
    "    textfile.writelines('The greatest increase in profit was ' +  str(max(change_list)) + ' on ' + date_list[date_profit + 1]+ '\\n')\n",
    "    textfile.writelines('The greatest decrease in profit was ' + str(min(change_list)) + ' on ' + date_list[date_losses + 1]+ '\\n')\n",
    "\n",
    "    \n",
    "    \n",
    "            "
   ]
  },
  {
   "cell_type": "code",
   "execution_count": null,
   "metadata": {},
   "outputs": [],
   "source": []
  }
 ],
 "metadata": {
  "kernelspec": {
   "display_name": "Python [conda env:PythonData] *",
   "language": "python",
   "name": "conda-env-PythonData-py"
  },
  "language_info": {
   "codemirror_mode": {
    "name": "ipython",
    "version": 3
   },
   "file_extension": ".py",
   "mimetype": "text/x-python",
   "name": "python",
   "nbconvert_exporter": "python",
   "pygments_lexer": "ipython3",
   "version": "3.6.10"
  }
 },
 "nbformat": 4,
 "nbformat_minor": 4
}
