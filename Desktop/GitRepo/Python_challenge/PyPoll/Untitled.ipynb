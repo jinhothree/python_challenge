{
 "cells": [
  {
   "cell_type": "code",
   "execution_count": 76,
   "metadata": {},
   "outputs": [],
   "source": [
    "import os\n",
    "import csv\n",
    "from operator import itemgetter \n"
   ]
  },
  {
   "cell_type": "code",
   "execution_count": 77,
   "metadata": {},
   "outputs": [],
   "source": [
    "vote_list = []\n",
    "candidate_list = []\n",
    "row_count = 0\n",
    "khan_vote = []\n",
    "correy_vote = []\n",
    "li_vote = []\n",
    "tool_vote = []\n"
   ]
  },
  {
   "cell_type": "code",
   "execution_count": 78,
   "metadata": {},
   "outputs": [
    {
     "name": "stdout",
     "output_type": "stream",
     "text": [
      "Total Votes:  3521001\n",
      "Correy : 20.0 % ( 704200 )\n",
      "Khan : 63.0 % ( 2218231 )\n",
      "Li : 14.0 % ( 492940 )\n",
      "O'Tooley : 3.0 % ( 105630 )\n",
      "Winner:  {'Name': 'Khan', 'Vote': 2218231}\n"
     ]
    }
   ],
   "source": [
    "#Set up the csv reader\n",
    "csvpath = os.path.join(\"election_data.csv\")\n",
    "with open(csvpath) as csvfile:\n",
    "    csvreader = csv.reader(csvfile, delimiter = ',')\n",
    "    next(csvreader, None)\n",
    "    for row in csvreader:\n",
    "#Count the total number of votes\n",
    "        vote_list.append(row[1])\n",
    "#Store all the values in the \"Candidate\" into a list\n",
    "        candidate_list.append(row[2])\n",
    "#Store vote count for each candidates\n",
    "        if row[2] == \"Correy\":\n",
    "            correy_vote.append(row[2])\n",
    "        elif row[2] == \"Khan\":\n",
    "            khan_vote.append(row[2])\n",
    "        elif row[2] == \"Li\":\n",
    "            li_vote.append(row[2])\n",
    "        elif row[2] == \"O'Tooley\":\n",
    "            tool_vote.append(row[2])\n",
    "#Find the names of the candidates\n",
    "candidates = set(candidate_list)\n",
    "sort_candidates = sorted(candidates)\n",
    "#Find the total number of votes\n",
    "total_vote = len(vote_list)\n",
    "#Find the vote count for each candidate\n",
    "khan_total = len(khan_vote)\n",
    "correy_total = len(correy_vote)\n",
    "li_total = len(li_vote)\n",
    "tool_total = len(tool_vote)\n",
    "#Find the percentage of votes gained for each candidates\n",
    "khan_per = round((khan_total/total_vote)*100,2)\n",
    "correy_per = round((correy_total/total_vote)*100, 2)\n",
    "li_per = round((li_total/total_vote)*100,2)\n",
    "tool_per = round((tool_total/total_vote)*100,2)\n",
    "#Find the winner\n",
    "tally = [{\"Name\":\"Correy\" , \"Vote\":correy_total},{\"Name\":\"Khan\" , \"Vote\": khan_total},\n",
    "{\"Name\":\"Li\" , \"Vote\":li_total},{\"Name\":\"O'Tooley\" , \"Vote\":tool_total}]\n",
    "sort_tally = sorted(tally, key=itemgetter('Vote'),reverse = True) \n",
    "winner = sort_tally[0]\n",
    "#Printing the total vote\n",
    "print(\"Total Votes: \", total_vote)\n",
    "#Printing the summary table. \n",
    "# a) Can I sort it the table by the most popular vote?\n",
    "# b) Is this hard coding????\n",
    "print(sort_candidates[0],':', correy_per,'%', '(',correy_total, ')')\n",
    "print(sort_candidates[1],':', khan_per,'%','(', khan_total, ')')\n",
    "print(sort_candidates[2], ':',li_per,'%', '(',li_total, ')')\n",
    "print(sort_candidates[3], ':',tool_per ,'%','(',tool_total, ')')\n",
    "print(\"Winner: \", winner)"
   ]
  },
  {
   "cell_type": "code",
   "execution_count": 83,
   "metadata": {},
   "outputs": [],
   "source": [
    "output_path = os.path.join(\"analysis.txt\")\n",
    "with open(output_path, \"w+\") as textfile:\n",
    "    textfile.writelines(\"Election Results\" + \"\\n\")\n",
    "    textfile.writelines(\"________________________\" + \"\\n\")\n",
    "    textfile.writelines(sort_candidates[0]+':'+ str(correy_per)+'%'+ '('+str(correy_total)+')'+ \"\\n\")\n",
    "    textfile.writelines(sort_candidates[1]+':'+ str(khan_per)+'%'+'('+ str(khan_total)+ ')'+ \"\\n\")\n",
    "    textfile.writelines(sort_candidates[2]+ ':'+str(li_per)+'%'+ '('+str(li_total)+ ')'+ \"\\n\")\n",
    "    textfile.writelines(sort_candidates[3]+ ':'+str(tool_per) +'%'+'('+str(tool_total)+')'+ \"\\n\")\n",
    "    textfile.writelines(\"________________________\" + \"\\n\")\n",
    "    textfile.writelines(\"Winner: \"+ str(winner) + \"\\n\")\n",
    "    "
   ]
  },
  {
   "cell_type": "code",
   "execution_count": null,
   "metadata": {},
   "outputs": [],
   "source": [
    "#Can I find the percentage of votes, WITHOUT knowing the number of the candidates or their names?\n",
    "# csvpath = os.path.join(\"election_data.csv\")\n",
    "# with open(csvpath) as csvfile:\n",
    "#     csvreader = csv.reader(csvfile, delimiter = ',')\n",
    "#     next(csvreader, None)\n",
    "#     for row in csvreader:\n",
    "#         for name in range(len(candidates))\n",
    "#             if name == row\n",
    "            "
   ]
  }
 ],
 "metadata": {
  "kernelspec": {
   "display_name": "Python [conda env:PythonData] *",
   "language": "python",
   "name": "conda-env-PythonData-py"
  },
  "language_info": {
   "codemirror_mode": {
    "name": "ipython",
    "version": 3
   },
   "file_extension": ".py",
   "mimetype": "text/x-python",
   "name": "python",
   "nbconvert_exporter": "python",
   "pygments_lexer": "ipython3",
   "version": "3.6.10"
  }
 },
 "nbformat": 4,
 "nbformat_minor": 4
}
